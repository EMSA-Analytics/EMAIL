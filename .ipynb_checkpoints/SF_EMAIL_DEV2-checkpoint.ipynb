{
 "cells": [
  {
   "cell_type": "code",
   "execution_count": 1,
   "metadata": {},
   "outputs": [],
   "source": [
    "import numpy as np\n",
    "import pandas as pd\n",
    "import matplotlib.pyplot as plt\n",
    "import glob\n",
    "import csv\n",
    "import seaborn as sns"
   ]
  },
  {
   "cell_type": "code",
   "execution_count": 2,
   "metadata": {},
   "outputs": [],
   "source": [
    "path =r'C:/Users/mjc341/desktop/UMAN 1625 A-B testingBaysean/SF_email_reports'\n",
    "pathfinal = r'C:/Users/mjc341/desktop/UMAN 1625 A-B testingBaysean/EmailResults'\n",
    "filenames = glob.glob(path + \"/*.csv\")"
   ]
  },
  {
   "cell_type": "code",
   "execution_count": 3,
   "metadata": {},
   "outputs": [],
   "source": [
    "#create a list of filenames from the reports\n",
    "EM_Results = []\n",
    "for filename in filenames:\n",
    "    EM_Results.append(filename[70:])"
   ]
  },
  {
   "cell_type": "code",
   "execution_count": 4,
   "metadata": {},
   "outputs": [],
   "source": [
    "#create a function that makes a pandas data frame and converts str obj to datetime\n",
    "#SFR  is SalesForce Email Results Report\n",
    "def FRAME(SFR):\n",
    "    name = pd.read_csv(path + \"/\"+ SFR, skiprows=3, engine='python', index_col=False)\n",
    "    name = name [['IntervalStartTime','UniqueOpened']]\n",
    "    df = pd.DataFrame(name)\n",
    "    name['IntervalStartTime'] = pd.to_datetime(name.IntervalStartTime)\n",
    "    return (df)\n",
    "\n",
    "def TITLE(SFR):\n",
    "    file = open(path + \"/\"+ SFR,'r')\n",
    "    csvreader=csv.reader(file)\n",
    "    header = next(csvreader)\n",
    "    line2 =next(csvreader)\n",
    "    EmailFileName = SFR[:-4]\n",
    "    return EmailFileName\n",
    "\n",
    "def HEADER(SFR):\n",
    "    file = open(path + \"/\"+ SFR,'r')\n",
    "    csvreader=csv.reader(file)\n",
    "    header = next(csvreader)\n",
    "    line2 =next(csvreader)\n",
    "    SUBJ=line2[7]\n",
    "    return SUBJ\n",
    "\n",
    "def OPENRATE(SFR):\n",
    "    name = pd.read_csv(path + \"/\"+ SFR, skiprows=3, engine='python', index_col=False)\n",
    "    name = name [['IntervalStartTime','Sent','Bounced', 'UniqueOpened','UniqueClicked','Unsubscribed']]\n",
    "    TSent = name['Sent'].sum()\n",
    "    TOpen = name['UniqueOpened'].sum()\n",
    "    TUnsubsc= name['Unsubscribed'].sum()\n",
    "    TBounce= name['Bounced'].sum()\n",
    "    FSent =TSent - TBounce\n",
    "    FOpenR = round((TOpen/FSent*100),1)\n",
    "    FOPENR = str(FOpenR) + \"%\"\n",
    "    return FOPENR\n",
    "\n",
    "\n",
    "def EMdf(SFR):\n",
    "    a= FRAME(SFR)\n",
    "    b= TITLE(SFR)\n",
    "    c= HEADER(SFR)\n",
    "    f= OPENRATE(SFR)\n",
    "    d = a.plot(x=\"IntervalStartTime\", y = 'UniqueOpened')\n",
    "    d.set(title = 'Email Response Rate for ' + b)\n",
    "    d.annotate('Email Header:\\n' + c + '\\n Open Rate: ' + f,\n",
    "               xy = (100,180),xycoords='figure points')\n",
    "    return d"
   ]
  },
  {
   "cell_type": "code",
   "execution_count": 7,
   "metadata": {},
   "outputs": [],
   "source": [
    "#this is the test file\n",
    "SFR = 'Career_Ctr.csv'\n",
    "#FRAME(SFR)"
   ]
  },
  {
   "cell_type": "code",
   "execution_count": 39,
   "metadata": {},
   "outputs": [
    {
     "data": {
      "text/html": [
       "<div>\n",
       "<style scoped>\n",
       "    .dataframe tbody tr th:only-of-type {\n",
       "        vertical-align: middle;\n",
       "    }\n",
       "\n",
       "    .dataframe tbody tr th {\n",
       "        vertical-align: top;\n",
       "    }\n",
       "\n",
       "    .dataframe thead th {\n",
       "        text-align: right;\n",
       "    }\n",
       "</style>\n",
       "<table border=\"1\" class=\"dataframe\">\n",
       "  <thead>\n",
       "    <tr style=\"text-align: right;\">\n",
       "      <th></th>\n",
       "      <th>IntervalStartTime</th>\n",
       "      <th>UniqueOpened</th>\n",
       "      <th>HourCount</th>\n",
       "    </tr>\n",
       "  </thead>\n",
       "  <tbody>\n",
       "    <tr>\n",
       "      <th>0</th>\n",
       "      <td>2018-08-09 17:00:00</td>\n",
       "      <td>196</td>\n",
       "      <td>0</td>\n",
       "    </tr>\n",
       "    <tr>\n",
       "      <th>1</th>\n",
       "      <td>2018-08-09 18:00:00</td>\n",
       "      <td>275</td>\n",
       "      <td>1</td>\n",
       "    </tr>\n",
       "    <tr>\n",
       "      <th>2</th>\n",
       "      <td>2018-08-09 19:00:00</td>\n",
       "      <td>174</td>\n",
       "      <td>2</td>\n",
       "    </tr>\n",
       "    <tr>\n",
       "      <th>3</th>\n",
       "      <td>2018-08-09 20:00:00</td>\n",
       "      <td>99</td>\n",
       "      <td>3</td>\n",
       "    </tr>\n",
       "    <tr>\n",
       "      <th>4</th>\n",
       "      <td>2018-08-09 21:00:00</td>\n",
       "      <td>81</td>\n",
       "      <td>4</td>\n",
       "    </tr>\n",
       "  </tbody>\n",
       "</table>\n",
       "</div>"
      ],
      "text/plain": [
       "    IntervalStartTime  UniqueOpened  HourCount\n",
       "0 2018-08-09 17:00:00           196          0\n",
       "1 2018-08-09 18:00:00           275          1\n",
       "2 2018-08-09 19:00:00           174          2\n",
       "3 2018-08-09 20:00:00            99          3\n",
       "4 2018-08-09 21:00:00            81          4"
      ]
     },
     "execution_count": 39,
     "metadata": {},
     "output_type": "execute_result"
    }
   ],
   "source": [
    "    m = pd.read_csv(path + \"/\"+ SFR, skiprows=3, engine='python', index_col=False)\n",
    "    m = m [['IntervalStartTime','UniqueOpened']]\n",
    "    M = pd.DataFrame(m)\n",
    "    M['IntervalStartTime'] = pd.to_datetime(M.IntervalStartTime)\n",
    "    M['HourCount'] = range(len(M))\n",
    "    M.head()"
   ]
  },
  {
   "cell_type": "code",
   "execution_count": 50,
   "metadata": {},
   "outputs": [],
   "source": [
    "y= max(M.UniqueOpened)"
   ]
  },
  {
   "cell_type": "code",
   "execution_count": 51,
   "metadata": {},
   "outputs": [
    {
     "data": {
      "text/plain": [
       "275"
      ]
     },
     "execution_count": 51,
     "metadata": {},
     "output_type": "execute_result"
    }
   ],
   "source": [
    "y"
   ]
  },
  {
   "cell_type": "code",
   "execution_count": 52,
   "metadata": {},
   "outputs": [
    {
     "data": {
      "text/plain": [
       "1"
      ]
     },
     "execution_count": 52,
     "metadata": {},
     "output_type": "execute_result"
    }
   ],
   "source": [
    "t = min(M.UniqueOpened)\n",
    "t"
   ]
  },
  {
   "cell_type": "code",
   "execution_count": 53,
   "metadata": {},
   "outputs": [
    {
     "data": {
      "text/plain": [
       "34"
      ]
     },
     "execution_count": 53,
     "metadata": {},
     "output_type": "execute_result"
    }
   ],
   "source": [
    "x = M.loc[M['UniqueOpened']== t, 'HourCount'].iloc[0]\n",
    "x"
   ]
  },
  {
   "cell_type": "code",
   "execution_count": 46,
   "metadata": {},
   "outputs": [],
   "source": [
    "def VAL_x(SFR):\n",
    "    t = min(M.UniqueOpened)\n",
    "    x =  M.loc[M['UniqueOpened']== t, 'HourCount'].iloc[0]\n",
    "    return x\n",
    "  "
   ]
  },
  {
   "cell_type": "code",
   "execution_count": 47,
   "metadata": {},
   "outputs": [
    {
     "data": {
      "text/plain": [
       "34"
      ]
     },
     "execution_count": 47,
     "metadata": {},
     "output_type": "execute_result"
    }
   ],
   "source": [
    "VAL_x(SFR)"
   ]
  },
  {
   "cell_type": "code",
   "execution_count": 56,
   "metadata": {},
   "outputs": [
    {
     "data": {
      "text/plain": [
       "-8.1"
      ]
     },
     "execution_count": 56,
     "metadata": {},
     "output_type": "execute_result"
    }
   ],
   "source": [
    "m = -y/x\n",
    "round(m, 1)"
   ]
  },
  {
   "cell_type": "code",
   "execution_count": 60,
   "metadata": {},
   "outputs": [],
   "source": [
    "def slope(SFR):\n",
    "    y= max(M.UniqueOpened)\n",
    "    t = min(M.UniqueOpened)\n",
    "    x =  M.loc[M['UniqueOpened']== t, 'HourCount'].iloc[0]\n",
    "    m = -y/x\n",
    "    m = round(m)\n",
    "    return m"
   ]
  },
  {
   "cell_type": "code",
   "execution_count": 66,
   "metadata": {},
   "outputs": [],
   "source": [
    "def findslope(SFR):\n",
    "    m = pd.read_csv(path + \"/\"+ SFR, skiprows=3, engine='python', index_col=False)\n",
    "    m = m [['IntervalStartTime','UniqueOpened']]\n",
    "    M = pd.DataFrame(m)\n",
    "    M['IntervalStartTime'] = pd.to_datetime(M.IntervalStartTime)\n",
    "    M['HourCount'] = range(len(M))\n",
    "    y= max(M.UniqueOpened)\n",
    "    t = min(M.UniqueOpened)\n",
    "    x =  M.loc[M['UniqueOpened']== t, 'HourCount'].iloc[0]\n",
    "    m = -y/x\n",
    "    m = round(m,2)\n",
    "\n",
    "    return m"
   ]
  },
  {
   "cell_type": "code",
   "execution_count": 72,
   "metadata": {},
   "outputs": [
    {
     "data": {
      "text/plain": [
       "[-8.09,\n",
       " -2.0,\n",
       " -9.29,\n",
       " -2.67,\n",
       " -11.36,\n",
       " -11.76,\n",
       " -18.66,\n",
       " -1.0,\n",
       " -19.27,\n",
       " -5.45,\n",
       " -18.47,\n",
       " -4.0,\n",
       " -5.88,\n",
       " -9.49,\n",
       " -1.33]"
      ]
     },
     "execution_count": 72,
     "metadata": {},
     "output_type": "execute_result"
    }
   ],
   "source": [
    "slopes=[]\n",
    "for item in EM_Results:\n",
    "    slopes.append(findslope(item))\n",
    "slopes"
   ]
  },
  {
   "cell_type": "code",
   "execution_count": null,
   "metadata": {
    "collapsed": true
   },
   "outputs": [],
   "source": []
  }
 ],
 "metadata": {
  "kernelspec": {
   "display_name": "Python 3",
   "language": "python",
   "name": "python3"
  },
  "language_info": {
   "codemirror_mode": {
    "name": "ipython",
    "version": 3
   },
   "file_extension": ".py",
   "mimetype": "text/x-python",
   "name": "python",
   "nbconvert_exporter": "python",
   "pygments_lexer": "ipython3",
   "version": "3.6.5"
  }
 },
 "nbformat": 4,
 "nbformat_minor": 2
}
