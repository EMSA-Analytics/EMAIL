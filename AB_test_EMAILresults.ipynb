{
 "cells": [
  {
   "cell_type": "code",
   "execution_count": 40,
   "metadata": {},
   "outputs": [],
   "source": [
    "# standard imports\n",
    "import numpy as np\n",
    "import matplotlib.pyplot as plt\n",
    "import pandas as pd\n",
    "import scipy.stats as scs\n",
    "\n",
    "\n",
    "%matplotlib inline\n",
    "plt.style.use('ggplot')\n"
   ]
  },
  {
   "cell_type": "markdown",
   "metadata": {},
   "source": [
    " Nguyen Ngo 's code to generate test data for A|B testing  \n",
    "   Returns a pandas dataframe with fake CTR data\n",
    "    Example:\n",
    "    Parameters:\n",
    "        N_A (int): sample size for control group\n",
    "        N_B (int): sample size for test group\n",
    "            Note: final sample size may not match N_A provided because the\n",
    "            group at each row is chosen at random (50/50).\n",
    "        p_A (float): conversion rate; conversion rate of control group\n",
    "        p_B (float): conversion rate; conversion rate of test group\n",
    "        days (int): optional; if provided, a column for 'ts' will be included\n",
    "            to divide the data in chunks of time\n",
    "            Note: overflow data will be included in an extra day\n",
    "        control_label (str)\n",
    "        test_label (str)\n",
    "    Returns:\n",
    "        df (df)"
   ]
  },
  {
   "cell_type": "code",
   "execution_count": 41,
   "metadata": {},
   "outputs": [],
   "source": [
    "def generate_data(N_A, N_B, p_A, p_B, days=None, control_label='A',\n",
    "                  test_label='B'):\n",
    "        data = []\n",
    "        N = N_A + N_B\n",
    "        group_bern = scs.bernoulli(0.5)\n",
    "        A_bern = scs.bernoulli(p_A)\n",
    "        B_bern = scs.bernoulli(p_B)\n",
    "        for idx in range(N):\n",
    "        # initite empty row\n",
    "            row = {}\n",
    "        # for 'ts' column\n",
    "            if days is not None:\n",
    "                if type(days) == int:\n",
    "                    row['ts'] = idx // (N // days)\n",
    "                else:\n",
    "                    raise ValueError(\"Provide an integer for the days parameter.\")\n",
    "        # assign group based on 50/50 probability\n",
    "            row['group'] = group_bern.rvs()\n",
    "\n",
    "            if row['group'] == 0:\n",
    "            # assign conversion based on provided parameters\n",
    "                row['converted'] = A_bern.rvs()\n",
    "            else:\n",
    "                row['converted'] = B_bern.rvs()\n",
    "        # collect row into data container\n",
    "            data.append(row)\n",
    "\n",
    "    # convert data into pandas dataframe\n",
    "        df = pd.DataFrame(data)\n",
    "\n",
    "    # transform group labels of 0s and 1s to user-defined group labels\n",
    "        df['group'] = df['group'].apply(\n",
    "        lambda x: control_label if x == 0 else test_label)\n",
    "\n",
    "        return df\n",
    "            "
   ]
  },
  {
   "cell_type": "code",
   "execution_count": 42,
   "metadata": {},
   "outputs": [],
   "source": [
    "N_A = 147\n",
    "N_B = 145\n",
    "p_A = 0.85\n",
    "p_B = 0.77"
   ]
  },
  {
   "cell_type": "code",
   "execution_count": 43,
   "metadata": {},
   "outputs": [],
   "source": [
    "ab_data = generate_data(N_A,N_B,p_A,p_B)"
   ]
  },
  {
   "cell_type": "code",
   "execution_count": 44,
   "metadata": {},
   "outputs": [
    {
     "data": {
      "text/html": [
       "<div>\n",
       "<style scoped>\n",
       "    .dataframe tbody tr th:only-of-type {\n",
       "        vertical-align: middle;\n",
       "    }\n",
       "\n",
       "    .dataframe tbody tr th {\n",
       "        vertical-align: top;\n",
       "    }\n",
       "\n",
       "    .dataframe thead th {\n",
       "        text-align: right;\n",
       "    }\n",
       "</style>\n",
       "<table border=\"1\" class=\"dataframe\">\n",
       "  <thead>\n",
       "    <tr style=\"text-align: right;\">\n",
       "      <th></th>\n",
       "      <th>converted</th>\n",
       "      <th>group</th>\n",
       "    </tr>\n",
       "  </thead>\n",
       "  <tbody>\n",
       "    <tr>\n",
       "      <th>0</th>\n",
       "      <td>1</td>\n",
       "      <td>B</td>\n",
       "    </tr>\n",
       "    <tr>\n",
       "      <th>1</th>\n",
       "      <td>1</td>\n",
       "      <td>B</td>\n",
       "    </tr>\n",
       "    <tr>\n",
       "      <th>2</th>\n",
       "      <td>1</td>\n",
       "      <td>A</td>\n",
       "    </tr>\n",
       "  </tbody>\n",
       "</table>\n",
       "</div>"
      ],
      "text/plain": [
       "   converted group\n",
       "0          1     B\n",
       "1          1     B\n",
       "2          1     A"
      ]
     },
     "execution_count": 44,
     "metadata": {},
     "output_type": "execute_result"
    }
   ],
   "source": [
    "ab_data.head(3)"
   ]
  },
  {
   "cell_type": "code",
   "execution_count": 45,
   "metadata": {},
   "outputs": [
    {
     "data": {
      "text/plain": [
       "(292, 2)"
      ]
     },
     "execution_count": 45,
     "metadata": {},
     "output_type": "execute_result"
    }
   ],
   "source": [
    "ab_data.shape"
   ]
  },
  {
   "cell_type": "code",
   "execution_count": 46,
   "metadata": {},
   "outputs": [],
   "source": [
    "A_group = ab_data[ab_data['group'] == 'A']\n",
    "B_group = ab_data[ab_data['group'] == 'B']"
   ]
  },
  {
   "cell_type": "code",
   "execution_count": 47,
   "metadata": {},
   "outputs": [
    {
     "data": {
      "text/plain": [
       "(129, 106)"
      ]
     },
     "execution_count": 47,
     "metadata": {},
     "output_type": "execute_result"
    }
   ],
   "source": [
    "A_converted, B_converted = A_group['converted'].sum(), B_group['converted'].sum()\n",
    "A_converted, B_converted"
   ]
  },
  {
   "cell_type": "code",
   "execution_count": 48,
   "metadata": {},
   "outputs": [
    {
     "data": {
      "text/plain": [
       "(154, 138)"
      ]
     },
     "execution_count": 48,
     "metadata": {},
     "output_type": "execute_result"
    }
   ],
   "source": [
    "\n",
    "A_total, B_total = len(A_group), len(B_group)\n",
    "A_total, B_total"
   ]
  },
  {
   "cell_type": "code",
   "execution_count": 49,
   "metadata": {},
   "outputs": [
    {
     "data": {
      "text/plain": [
       "(0.8376623376623377, 0.7681159420289855)"
      ]
     },
     "execution_count": 49,
     "metadata": {},
     "output_type": "execute_result"
    }
   ],
   "source": [
    "p_A, p_B = A_converted / A_total, B_converted / B_total\n",
    "p_A, p_B"
   ]
  },
  {
   "cell_type": "code",
   "execution_count": 50,
   "metadata": {},
   "outputs": [
    {
     "data": {
      "text/plain": [
       "-0.06954639563335219"
      ]
     },
     "execution_count": 50,
     "metadata": {},
     "output_type": "execute_result"
    }
   ],
   "source": [
    "p_B - p_A"
   ]
  },
  {
   "cell_type": "code",
   "execution_count": 51,
   "metadata": {},
   "outputs": [],
   "source": [
    "ab_summary = ab_data.pivot_table(values='converted', index='group', aggfunc=np.sum)\n",
    "# add additional columns to the pivot table\n",
    "ab_summary['total'] = ab_data.pivot_table(values='converted', index='group', aggfunc=lambda x: len(x))\n",
    "ab_summary['rate'] = ab_data.pivot_table(values='converted', index='group')"
   ]
  },
  {
   "cell_type": "code",
   "execution_count": 52,
   "metadata": {},
   "outputs": [
    {
     "data": {
      "text/html": [
       "<div>\n",
       "<style scoped>\n",
       "    .dataframe tbody tr th:only-of-type {\n",
       "        vertical-align: middle;\n",
       "    }\n",
       "\n",
       "    .dataframe tbody tr th {\n",
       "        vertical-align: top;\n",
       "    }\n",
       "\n",
       "    .dataframe thead th {\n",
       "        text-align: right;\n",
       "    }\n",
       "</style>\n",
       "<table border=\"1\" class=\"dataframe\">\n",
       "  <thead>\n",
       "    <tr style=\"text-align: right;\">\n",
       "      <th></th>\n",
       "      <th>converted</th>\n",
       "      <th>total</th>\n",
       "      <th>rate</th>\n",
       "    </tr>\n",
       "    <tr>\n",
       "      <th>group</th>\n",
       "      <th></th>\n",
       "      <th></th>\n",
       "      <th></th>\n",
       "    </tr>\n",
       "  </thead>\n",
       "  <tbody>\n",
       "    <tr>\n",
       "      <th>A</th>\n",
       "      <td>129</td>\n",
       "      <td>154</td>\n",
       "      <td>0.837662</td>\n",
       "    </tr>\n",
       "    <tr>\n",
       "      <th>B</th>\n",
       "      <td>106</td>\n",
       "      <td>138</td>\n",
       "      <td>0.768116</td>\n",
       "    </tr>\n",
       "  </tbody>\n",
       "</table>\n",
       "</div>"
      ],
      "text/plain": [
       "       converted  total      rate\n",
       "group                            \n",
       "A            129    154  0.837662\n",
       "B            106    138  0.768116"
      ]
     },
     "execution_count": 52,
     "metadata": {},
     "output_type": "execute_result"
    }
   ],
   "source": [
    "ab_summary"
   ]
  },
  {
   "cell_type": "markdown",
   "metadata": {},
   "source": [
    "The above result matches our parameters that we used to set up the test. Keep in mind that you will not be able to set how much lift you would see in the test group in real-world applications. However, you do have to decide how many samples you will need for the test and you will probably know the baseline conversion rate.\n",
    "\n",
    "If you observe the conversion rate for both groups, you find that the new signup page resulted in an improvement of 2%. This is good news, but how can you demonstrate that this result is statistically significant."
   ]
  },
  {
   "cell_type": "code",
   "execution_count": 53,
   "metadata": {},
   "outputs": [
    {
     "data": {
      "text/plain": [
       "118.28985507246377"
      ]
     },
     "execution_count": 53,
     "metadata": {},
     "output_type": "execute_result"
    }
   ],
   "source": [
    "p_B * A_total"
   ]
  },
  {
   "cell_type": "code",
   "execution_count": 54,
   "metadata": {},
   "outputs": [
    {
     "data": {
      "text/plain": [
       "Text(0,0.5,'probability')"
      ]
     },
     "execution_count": 54,
     "metadata": {},
     "output_type": "execute_result"
    },
    {
     "data": {
      "image/png": "[encoded data removed]",
      "text/plain": [
       "<Figure size 864x432 with 1 Axes>"
      ]
     },
     "metadata": {},
     "output_type": "display_data"
    }
   ],
   "source": [
    "fig, ax = plt.subplots(figsize=(12,6))\n",
    "x = np.linspace(A_converted-49, A_converted+50, 100)\n",
    "y = scs.binom(A_total, p_A).pmf(x)\n",
    "ax.scatter(x, y, s=10)\n",
    "ax.axvline(x=p_B * A_total, c='blue', alpha=0.75, linestyle='--')\n",
    "plt.xlabel('converted')\n",
    "plt.ylabel('probability')"
   ]
  },
  {
   "cell_type": "markdown",
   "metadata": {},
   "source": [
    "If we plot the binomial distribution that corresponds to the control group we would get the plot above in red. If we want to evaluate the probability of getting the result from the test group based on the binomial distribution from the control group, we would get the following:"
   ]
  },
  {
   "cell_type": "code",
   "execution_count": 55,
   "metadata": {},
   "outputs": [
    {
     "data": {
      "text/plain": [
       "0.002054677062679935"
      ]
     },
     "execution_count": 55,
     "metadata": {},
     "output_type": "execute_result"
    }
   ],
   "source": [
    "scs.binom(A_total, p_A).pmf(116)"
   ]
  },
  {
   "cell_type": "markdown",
   "metadata": {},
   "source": [
    "That is a very low probability. If we are comparing this to a significance level, typically referred to as alpha, we would say that the result is drastically lower than 5% or even 1%. In other words, there was a 0.2% chance that we would have seen this result. Is this enough evidence of statistical significance? Let's get into statistical power.\n",
    "\n",
    "We can plot the data from both groups as binomial distributions."
   ]
  },
  {
   "cell_type": "code",
   "execution_count": 56,
   "metadata": {},
   "outputs": [
    {
     "data": {
      "text/plain": [
       "Text(0,0.5,'probability')"
      ]
     },
     "execution_count": 56,
     "metadata": {},
     "output_type": "execute_result"
    },
    {
     "data": {
      "image/png": "[encoded data removed]",
      "text/plain": [
       "<Figure size 864x432 with 1 Axes>"
      ]
     },
     "metadata": {},
     "output_type": "display_data"
    }
   ],
   "source": [
    "fig, ax = plt.subplots(figsize=(12,6))\n",
    "xA = np.linspace(A_converted-49, A_converted+50, 100)\n",
    "yA = scs.binom(A_total, p_A).pmf(xA)\n",
    "ax.scatter(xA, yA, s=10)\n",
    "xB = np.linspace(B_converted-49, B_converted+50, 100)\n",
    "yB = scs.binom(B_total, p_B).pmf(xB)\n",
    "ax.scatter(xB, yB, s=10)\n",
    "plt.xlabel('converted')\n",
    "plt.ylabel('probability')"
   ]
  },
  {
   "cell_type": "markdown",
   "metadata": {},
   "source": [
    "\n",
    "We can see that the test group converted more users than the control group. However, the plot above is not a plot of the null and alternate hypothesis. The null hypothesis is a plot of the difference between the probability of the two groups.In order to calculate the difference between the two groups, we need to standardize the data. Because the number of samples might be different between the two groups, we should compare the probability of successes, p."
   ]
  },
  {
   "cell_type": "code",
   "execution_count": 62,
   "metadata": {},
   "outputs": [
    {
     "data": {
      "text/plain": [
       "0.009570579919733181"
      ]
     },
     "execution_count": 62,
     "metadata": {},
     "output_type": "execute_result"
    }
   ],
   "source": [
    "\n",
    "SE_A = np.sqrt(p_A * (1-p_A)) / np.sqrt(A_total)\n",
    "SE_A"
   ]
  },
  {
   "cell_type": "code",
   "execution_count": 63,
   "metadata": {},
   "outputs": [
    {
     "data": {
      "text/plain": [
       "0.010088359628799918"
      ]
     },
     "execution_count": 63,
     "metadata": {},
     "output_type": "execute_result"
    }
   ],
   "source": [
    "\n",
    "SE_B = np.sqrt(p_B * (1-p_B)) / np.sqrt(B_total)\n",
    "SE_B"
   ]
  },
  {
   "cell_type": "code",
   "execution_count": 64,
   "metadata": {},
   "outputs": [
    {
     "data": {
      "text/plain": [
       "Text(0,0.5,'PDF')"
      ]
     },
     "execution_count": 64,
     "metadata": {},
     "output_type": "execute_result"
    },
    {
     "data": {
      "image/png": "[encoded data removed]",
      "text/plain": [
       "<Figure size 864x432 with 1 Axes>"
      ]
     },
     "metadata": {},
     "output_type": "display_data"
    }
   ],
   "source": [
    "fig, ax = plt.subplots(figsize=(12,6))\n",
    "xA = np.linspace(0, .2, 1000)\n",
    "yA = scs.norm(p_A, SE_A).pdf(xA)\n",
    "ax.plot(xA, yA)\n",
    "ax.axvline(x=p_A, c='red', alpha=0.5, linestyle='--')\n",
    "\n",
    "xB = np.linspace(0, .2, 1000)\n",
    "yB = scs.norm(p_B, SE_B).pdf(xB)\n",
    "ax.plot(xB, yB)\n",
    "ax.axvline(x=p_B, c='blue', alpha=0.5, linestyle='--')\n",
    "\n",
    "plt.xlabel('Converted Proportion')\n",
    "plt.ylabel('PDF')"
   ]
  },
  {
   "cell_type": "markdown",
   "metadata": {},
   "source": [
    "\n",
    "The dashed lines represent the mean conversion rate for each group. The distance between the red dashed line and the blue dashed line is equal to d_hat.\n",
    "\n",
    "$$ \\hat{d} = \\hat{p}_B - \\hat{p}_A $$"
   ]
  },
  {
   "cell_type": "markdown",
   "metadata": {},
   "source": [
    "\n",
    "Back to the Null and Alternate Hypothesis\n",
    "Recall that the null hypothesis states that the difference in probability between the two groups is zero. We should construct a distribution of this difference, since for any A/B experiment our value for p each come from a two different distributions and the difference will have its own variance.\n",
    "\n",
    "$$ H_0: d = 0 $$$$ \\hat{d} \\sim Normal(0, \\: SE_{pool}) $$\n",
    "$$ H_A: d = p_B - p_A $$$$ \\hat{d} \\sim Normal(d, \\: SE_{pool}) $$\n",
    "Variance of the Sum"
   ]
  },
  {
   "cell_type": "markdown",
   "metadata": {},
   "source": [
    "The variance of the sum (of two random independent variables) is the sum of the variances.\n",
    "\n",
    "$$ Var(X + Y) = Var(X) + Var(Y) $$$$ Var(X - Y) = Var(X) + Var(Y) $$\n",
    "Because the distribution for the difference is calculated from two normal distributions, we can assume that the difference will be normally distributed.\n",
    "\n",
    "The null hypothesis is the normal distribution of the difference with a mean of zero.\n",
    "\n",
    "The alternate hypothesis is the normal distribution of the difference with a mean of the difference in the means of the two groups.\n",
    "\n",
    "The null hypothesis and alternate hypothesis will the same variance which will be the sum of the variances for the control group and the test group.\n",
    "\n",
    "$$ Var(\\hat{d}) = Var(\\hat{p}_B - \\hat{p}_A) = Var(\\hat{p}_A) + Var(\\hat{p}_B) = \\frac{p_A(1-p_A)}{n_A} + \\frac{p_B(1-p_B)}{n_B} $$\n",
    "The standard deviation will be the square root of the variance.\n",
    "\n",
    "$$ \\sigma = \\sqrt{Var(\\hat{d})} = \\sqrt{ \\frac{p_A(1-p_A)}{n_A} + \\frac{p_B(1-p_B)}{n_B} } $$\n",
    "Pooled Variance\n",
    "We can put this equation in terms of $s$, where $s$ is the standard deviation of the Bernoulli distribution.\n",
    "\n",
    "$$ \\sigma = \\sqrt{Var(\\hat{d})} = \\sqrt{ \\frac{s_A^2}{n_A} + \\frac{s_B^2}{n_B} } $$"
   ]
  },
  {
   "cell_type": "code",
   "execution_count": null,
   "metadata": {},
   "outputs": [],
   "source": []
  }
 ],
 "metadata": {
  "kernelspec": {
   "display_name": "Python 3",
   "language": "python",
   "name": "python3"
  },
  "language_info": {
   "codemirror_mode": {
    "name": "ipython",
    "version": 3
   },
   "file_extension": ".py",
   "mimetype": "text/x-python",
   "name": "python",
   "nbconvert_exporter": "python",
   "pygments_lexer": "ipython3",
   "version": "3.6.5"
  }
 },
 "nbformat": 4,
 "nbformat_minor": 2
}
